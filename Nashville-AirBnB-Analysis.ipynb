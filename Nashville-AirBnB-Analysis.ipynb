{
 "cells": [
  {
   "cell_type": "code",
   "execution_count": 1,
   "id": "788b27fe",
   "metadata": {},
   "outputs": [],
   "source": [
    "# Import Necessary Libraries\n",
    "import pandas as pd\n",
    "import numpy as np\n",
    "import matplotlib.pyplot as plt\n",
    "import seaborn as sns\n",
    "%matplotlib inline"
   ]
  },
  {
   "cell_type": "code",
   "execution_count": 34,
   "id": "cbdf3a97",
   "metadata": {},
   "outputs": [
    {
     "name": "stdout",
     "output_type": "stream",
     "text": [
      "The listings dataset has 8850 rows and 18 columns.\n",
      "The reviews dataset has 626097 rows and 2 columns.\n",
      "The neighborhoods dataset has 35 rows and 2 columns.\n"
     ]
    }
   ],
   "source": [
    "# Import and Load Nashville AirBnB Data \n",
    "listings =  pd.read_csv('C:/Users/New/Downloads/datasets/NashvilleAirBNB/NashvilleListings.csv')\n",
    "reviews = pd.read_csv('C:/Users/New/Downloads/datasets/NashvilleAirBNB/NashvilleReviews.csv')\n",
    "neighborhoods = pd.read_csv('C:/Users/New/Downloads/datasets/NashvilleAirBNB/NashvilleNeighbourhoods.csv')\n",
    "\n",
    "print(f\"The listings dataset has {listings.shape[0]} rows and {listings.shape[1]} columns.\")\n",
    "print(f\"The reviews dataset has {reviews.shape[0]} rows and {reviews.shape[1]} columns.\")\n",
    "print(f\"The neighborhoods dataset has {neighborhoods.shape[0]} rows and {neighborhoods.shape[1]} columns.\")"
   ]
  },
  {
   "cell_type": "code",
   "execution_count": 48,
   "id": "815575d4",
   "metadata": {},
   "outputs": [],
   "source": [
    "# Rename the Primary Key Linking Both Datasets as 'id' in the Reviews Dataset\n",
    "reviews.rename(columns = {'listing_id' : 'id'}, inplace = True)\n",
    "# Merge All Datasets into One File and Check Data in Preparation for Data Cleaning\n",
    "nashville = pd.merge(reviews, listings, on='id')"
   ]
  },
  {
   "cell_type": "code",
   "execution_count": 69,
   "id": "56d59a9e",
   "metadata": {},
   "outputs": [
    {
     "data": {
      "text/html": [
       "<div>\n",
       "<style scoped>\n",
       "    .dataframe tbody tr th:only-of-type {\n",
       "        vertical-align: middle;\n",
       "    }\n",
       "\n",
       "    .dataframe tbody tr th {\n",
       "        vertical-align: top;\n",
       "    }\n",
       "\n",
       "    .dataframe thead th {\n",
       "        text-align: right;\n",
       "    }\n",
       "</style>\n",
       "<table border=\"1\" class=\"dataframe\">\n",
       "  <thead>\n",
       "    <tr style=\"text-align: right;\">\n",
       "      <th></th>\n",
       "      <th>id</th>\n",
       "      <th>date</th>\n",
       "      <th>name</th>\n",
       "      <th>host_id</th>\n",
       "      <th>host_name</th>\n",
       "      <th>neighbourhood_group</th>\n",
       "      <th>neighbourhood</th>\n",
       "      <th>latitude</th>\n",
       "      <th>longitude</th>\n",
       "      <th>room_type</th>\n",
       "      <th>price</th>\n",
       "      <th>minimum_nights</th>\n",
       "      <th>number_of_reviews</th>\n",
       "      <th>last_review</th>\n",
       "      <th>reviews_per_month</th>\n",
       "      <th>calculated_host_listings_count</th>\n",
       "      <th>availability_365</th>\n",
       "      <th>number_of_reviews_ltm</th>\n",
       "      <th>license</th>\n",
       "    </tr>\n",
       "  </thead>\n",
       "  <tbody>\n",
       "    <tr>\n",
       "      <th>0</th>\n",
       "      <td>6422</td>\n",
       "      <td>2009-04-30</td>\n",
       "      <td>Home in Nashville · ★4.95 · 1 bedroom · 1 bed ...</td>\n",
       "      <td>12172</td>\n",
       "      <td>Michele</td>\n",
       "      <td>NaN</td>\n",
       "      <td>District 6</td>\n",
       "      <td>36.17143</td>\n",
       "      <td>-86.7357</td>\n",
       "      <td>Private room</td>\n",
       "      <td>43.0</td>\n",
       "      <td>30</td>\n",
       "      <td>670</td>\n",
       "      <td>2020-03-03</td>\n",
       "      <td>3.76</td>\n",
       "      <td>1</td>\n",
       "      <td>260</td>\n",
       "      <td>0</td>\n",
       "      <td>NaN</td>\n",
       "    </tr>\n",
       "    <tr>\n",
       "      <th>1</th>\n",
       "      <td>6422</td>\n",
       "      <td>2009-06-11</td>\n",
       "      <td>Home in Nashville · ★4.95 · 1 bedroom · 1 bed ...</td>\n",
       "      <td>12172</td>\n",
       "      <td>Michele</td>\n",
       "      <td>NaN</td>\n",
       "      <td>District 6</td>\n",
       "      <td>36.17143</td>\n",
       "      <td>-86.7357</td>\n",
       "      <td>Private room</td>\n",
       "      <td>43.0</td>\n",
       "      <td>30</td>\n",
       "      <td>670</td>\n",
       "      <td>2020-03-03</td>\n",
       "      <td>3.76</td>\n",
       "      <td>1</td>\n",
       "      <td>260</td>\n",
       "      <td>0</td>\n",
       "      <td>NaN</td>\n",
       "    </tr>\n",
       "    <tr>\n",
       "      <th>2</th>\n",
       "      <td>6422</td>\n",
       "      <td>2009-06-17</td>\n",
       "      <td>Home in Nashville · ★4.95 · 1 bedroom · 1 bed ...</td>\n",
       "      <td>12172</td>\n",
       "      <td>Michele</td>\n",
       "      <td>NaN</td>\n",
       "      <td>District 6</td>\n",
       "      <td>36.17143</td>\n",
       "      <td>-86.7357</td>\n",
       "      <td>Private room</td>\n",
       "      <td>43.0</td>\n",
       "      <td>30</td>\n",
       "      <td>670</td>\n",
       "      <td>2020-03-03</td>\n",
       "      <td>3.76</td>\n",
       "      <td>1</td>\n",
       "      <td>260</td>\n",
       "      <td>0</td>\n",
       "      <td>NaN</td>\n",
       "    </tr>\n",
       "    <tr>\n",
       "      <th>3</th>\n",
       "      <td>6422</td>\n",
       "      <td>2009-07-18</td>\n",
       "      <td>Home in Nashville · ★4.95 · 1 bedroom · 1 bed ...</td>\n",
       "      <td>12172</td>\n",
       "      <td>Michele</td>\n",
       "      <td>NaN</td>\n",
       "      <td>District 6</td>\n",
       "      <td>36.17143</td>\n",
       "      <td>-86.7357</td>\n",
       "      <td>Private room</td>\n",
       "      <td>43.0</td>\n",
       "      <td>30</td>\n",
       "      <td>670</td>\n",
       "      <td>2020-03-03</td>\n",
       "      <td>3.76</td>\n",
       "      <td>1</td>\n",
       "      <td>260</td>\n",
       "      <td>0</td>\n",
       "      <td>NaN</td>\n",
       "    </tr>\n",
       "    <tr>\n",
       "      <th>4</th>\n",
       "      <td>6422</td>\n",
       "      <td>2009-09-29</td>\n",
       "      <td>Home in Nashville · ★4.95 · 1 bedroom · 1 bed ...</td>\n",
       "      <td>12172</td>\n",
       "      <td>Michele</td>\n",
       "      <td>NaN</td>\n",
       "      <td>District 6</td>\n",
       "      <td>36.17143</td>\n",
       "      <td>-86.7357</td>\n",
       "      <td>Private room</td>\n",
       "      <td>43.0</td>\n",
       "      <td>30</td>\n",
       "      <td>670</td>\n",
       "      <td>2020-03-03</td>\n",
       "      <td>3.76</td>\n",
       "      <td>1</td>\n",
       "      <td>260</td>\n",
       "      <td>0</td>\n",
       "      <td>NaN</td>\n",
       "    </tr>\n",
       "  </tbody>\n",
       "</table>\n",
       "</div>"
      ],
      "text/plain": [
       "     id        date                                               name  \\\n",
       "0  6422  2009-04-30  Home in Nashville · ★4.95 · 1 bedroom · 1 bed ...   \n",
       "1  6422  2009-06-11  Home in Nashville · ★4.95 · 1 bedroom · 1 bed ...   \n",
       "2  6422  2009-06-17  Home in Nashville · ★4.95 · 1 bedroom · 1 bed ...   \n",
       "3  6422  2009-07-18  Home in Nashville · ★4.95 · 1 bedroom · 1 bed ...   \n",
       "4  6422  2009-09-29  Home in Nashville · ★4.95 · 1 bedroom · 1 bed ...   \n",
       "\n",
       "   host_id host_name  neighbourhood_group neighbourhood  latitude  longitude  \\\n",
       "0    12172   Michele                  NaN    District 6  36.17143   -86.7357   \n",
       "1    12172   Michele                  NaN    District 6  36.17143   -86.7357   \n",
       "2    12172   Michele                  NaN    District 6  36.17143   -86.7357   \n",
       "3    12172   Michele                  NaN    District 6  36.17143   -86.7357   \n",
       "4    12172   Michele                  NaN    District 6  36.17143   -86.7357   \n",
       "\n",
       "      room_type  price  minimum_nights  number_of_reviews last_review  \\\n",
       "0  Private room   43.0              30                670  2020-03-03   \n",
       "1  Private room   43.0              30                670  2020-03-03   \n",
       "2  Private room   43.0              30                670  2020-03-03   \n",
       "3  Private room   43.0              30                670  2020-03-03   \n",
       "4  Private room   43.0              30                670  2020-03-03   \n",
       "\n",
       "   reviews_per_month  calculated_host_listings_count  availability_365  \\\n",
       "0               3.76                               1               260   \n",
       "1               3.76                               1               260   \n",
       "2               3.76                               1               260   \n",
       "3               3.76                               1               260   \n",
       "4               3.76                               1               260   \n",
       "\n",
       "   number_of_reviews_ltm license  \n",
       "0                      0     NaN  \n",
       "1                      0     NaN  \n",
       "2                      0     NaN  \n",
       "3                      0     NaN  \n",
       "4                      0     NaN  "
      ]
     },
     "execution_count": 69,
     "metadata": {},
     "output_type": "execute_result"
    }
   ],
   "source": [
    "nashville.head()"
   ]
  },
  {
   "cell_type": "code",
   "execution_count": null,
   "id": "1005328c",
   "metadata": {},
   "outputs": [],
   "source": [
    "# Drop Unneeded Column After Feature Engineering and Data Transformation\n",
    "nashville.drop(columns = ['neighbourhood_group', 'license'], inplace = True)"
   ]
  },
  {
   "cell_type": "code",
   "execution_count": 50,
   "id": "350e4cdd",
   "metadata": {},
   "outputs": [
    {
     "name": "stdout",
     "output_type": "stream",
     "text": [
      "The merged dataset has 626097 rows and 19 columns.\n"
     ]
    }
   ],
   "source": [
    "print(f\"The merged and cleaned dataset has {nashville.shape[0]} rows and {nashville.shape[1]} columns.\")"
   ]
  },
  {
   "cell_type": "code",
   "execution_count": 61,
   "id": "34e1bb9d",
   "metadata": {},
   "outputs": [
    {
     "data": {
      "text/plain": [
       "Index(['id', 'date', 'name', 'host_id', 'host_name', 'neighbourhood_group',\n",
       "       'neighbourhood', 'latitude', 'longitude', 'room_type', 'price',\n",
       "       'minimum_nights', 'number_of_reviews', 'last_review',\n",
       "       'reviews_per_month', 'calculated_host_listings_count',\n",
       "       'availability_365', 'number_of_reviews_ltm', 'license'],\n",
       "      dtype='object')"
      ]
     },
     "execution_count": 61,
     "metadata": {},
     "output_type": "execute_result"
    }
   ],
   "source": [
    "nashville.columns"
   ]
  },
  {
   "cell_type": "code",
   "execution_count": 72,
   "id": "7613090a",
   "metadata": {},
   "outputs": [
    {
     "data": {
      "text/plain": [
       "array(['Private room', 'Entire home/apt', 'Shared room', 'Hotel room'],\n",
       "      dtype=object)"
      ]
     },
     "execution_count": 72,
     "metadata": {},
     "output_type": "execute_result"
    }
   ],
   "source": [
    "nashville['room_type'].unique()"
   ]
  },
  {
   "cell_type": "code",
   "execution_count": 74,
   "id": "2a101d50",
   "metadata": {},
   "outputs": [
    {
     "name": "stdout",
     "output_type": "stream",
     "text": [
      "<class 'pandas.core.frame.DataFrame'>\n",
      "RangeIndex: 8850 entries, 0 to 8849\n",
      "Data columns (total 18 columns):\n",
      " #   Column                          Non-Null Count  Dtype  \n",
      "---  ------                          --------------  -----  \n",
      " 0   id                              8850 non-null   int64  \n",
      " 1   name                            8850 non-null   object \n",
      " 2   host_id                         8850 non-null   int64  \n",
      " 3   host_name                       8850 non-null   object \n",
      " 4   neighbourhood_group             0 non-null      float64\n",
      " 5   neighbourhood                   8850 non-null   object \n",
      " 6   latitude                        8850 non-null   float64\n",
      " 7   longitude                       8850 non-null   float64\n",
      " 8   room_type                       8850 non-null   object \n",
      " 9   price                           8665 non-null   float64\n",
      " 10  minimum_nights                  8850 non-null   int64  \n",
      " 11  number_of_reviews               8850 non-null   int64  \n",
      " 12  last_review                     7652 non-null   object \n",
      " 13  reviews_per_month               7652 non-null   float64\n",
      " 14  calculated_host_listings_count  8850 non-null   int64  \n",
      " 15  availability_365                8850 non-null   int64  \n",
      " 16  number_of_reviews_ltm           8850 non-null   int64  \n",
      " 17  license                         152 non-null    object \n",
      "dtypes: float64(5), int64(7), object(6)\n",
      "memory usage: 1.2+ MB\n"
     ]
    }
   ],
   "source": [
    "listings.info()"
   ]
  }
 ],
 "metadata": {
  "kernelspec": {
   "display_name": "Python 3 (ipykernel)",
   "language": "python",
   "name": "python3"
  },
  "language_info": {
   "codemirror_mode": {
    "name": "ipython",
    "version": 3
   },
   "file_extension": ".py",
   "mimetype": "text/x-python",
   "name": "python",
   "nbconvert_exporter": "python",
   "pygments_lexer": "ipython3",
   "version": "3.11.5"
  }
 },
 "nbformat": 4,
 "nbformat_minor": 5
}
